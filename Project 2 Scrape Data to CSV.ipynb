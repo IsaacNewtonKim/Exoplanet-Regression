{
 "cells": [
  {
   "cell_type": "markdown",
   "metadata": {},
   "source": [
    "# Scrape Exoplanet Data from http://exoplanet.eu/catalog/"
   ]
  },
  {
   "cell_type": "code",
   "execution_count": 1,
   "metadata": {},
   "outputs": [],
   "source": [
    "from bs4 import BeautifulSoup\n",
    "import requests\n",
    "import re\n",
    "import pandas as pd\n",
    "import numpy as np"
   ]
  },
  {
   "cell_type": "markdown",
   "metadata": {},
   "source": [
    "### Get exoplanet names from API csv, format names into URLS"
   ]
  },
  {
   "cell_type": "code",
   "execution_count": 52,
   "metadata": {
    "scrolled": false
   },
   "outputs": [],
   "source": [
    "df = pd.read_csv('exoplanets.csv')\n",
    "all_names = df['# name']\n",
    "\n",
    "#format URLs\n",
    "exoplanet_names = [name.strip() for name in all_names]\n",
    "exoplanet_names = [name.replace(' ','_') for name in exoplanet_names]\n",
    "url_list = [('http://exoplanet.eu/catalog/' + name + '/') for name in exoplanet_names]"
   ]
  },
  {
   "cell_type": "markdown",
   "metadata": {},
   "source": [
    "### Create functions to get columns of our dataset"
   ]
  },
  {
   "cell_type": "code",
   "execution_count": 101,
   "metadata": {},
   "outputs": [],
   "source": [
    "def get_mass(soup,data_list):\n",
    "    data  = soup.find(id = \"planet_mass\")\n",
    "    numbers = [float(x) for x in re.findall(\"\\d+\\.\\d+\", str(data))]\n",
    "    if (numbers):\n",
    "        data_list.append(numbers[0])\n",
    "    else:\n",
    "        data_list.append(np.NaN)"
   ]
  },
  {
   "cell_type": "code",
   "execution_count": 102,
   "metadata": {},
   "outputs": [],
   "source": [
    "def get_mass_sini(soup,data_list):\n",
    "    data  = soup.find(id = \"planet_mass_sini\")\n",
    "    numbers = [float(x) for x in re.findall(\"\\d+\\.\\d+\", str(data))]\n",
    "    if (numbers):\n",
    "        individual_data.append(numbers[0])\n",
    "    else:\n",
    "        individual_data.append(np.NaN)"
   ]
  },
  {
   "cell_type": "code",
   "execution_count": 103,
   "metadata": {},
   "outputs": [],
   "source": [
    "def get_axis(soup,data_list):\n",
    "    data  = soup.find(id = \"planet_axis\")\n",
    "    numbers = [float(x) for x in re.findall(\"\\d+\\.\\d+\", str(data))]\n",
    "    if (numbers):\n",
    "        individual_data.append(numbers[0])\n",
    "    else:\n",
    "        individual_data.append(np.NaN)"
   ]
  },
  {
   "cell_type": "code",
   "execution_count": 104,
   "metadata": {},
   "outputs": [],
   "source": [
    "def get_orbital_period(soup,data_list):\n",
    "    data  = soup.find(id = \"planet_period\")\n",
    "    numbers = [float(x) for x in re.findall(\"\\d+\\.\\d+\", str(data))]\n",
    "    if (numbers):\n",
    "        individual_data.append(numbers[0])\n",
    "    else:\n",
    "        individual_data.append(np.NaN)"
   ]
  },
  {
   "cell_type": "code",
   "execution_count": 105,
   "metadata": {},
   "outputs": [],
   "source": [
    "def get_eccentricity(soup,data_list):\n",
    "    data  = soup.find(id = \"planet_eccentricity\")\n",
    "    numbers = [float(x) for x in re.findall(\"\\d+\\.\\d+\", str(data))]\n",
    "    if (numbers):\n",
    "        individual_data.append(numbers[0])\n",
    "    else:\n",
    "        individual_data.append(np.NaN)"
   ]
  },
  {
   "cell_type": "code",
   "execution_count": 106,
   "metadata": {},
   "outputs": [],
   "source": [
    "def get_omega(soup,data_list):\n",
    "    data  = soup.find(id = \"planet_omega\")\n",
    "    numbers = [float(x) for x in re.findall(\"\\d+\\.\\d+\", str(data))]\n",
    "    if (numbers):\n",
    "        individual_data.append(numbers[0])\n",
    "    else:\n",
    "        individual_data.append(np.NaN)"
   ]
  },
  {
   "cell_type": "code",
   "execution_count": 107,
   "metadata": {},
   "outputs": [],
   "source": [
    "def get_tperi(soup,data_list):\n",
    "    data  = soup.find(id = \"planet_tperi\")\n",
    "    numbers = [float(x) for x in re.findall(\"\\d+\\.\\d+\", str(data))]\n",
    "    if (numbers):\n",
    "        individual_data.append(numbers[0])\n",
    "    else:\n",
    "        individual_data.append(np.NaN)"
   ]
  },
  {
   "cell_type": "code",
   "execution_count": 108,
   "metadata": {},
   "outputs": [],
   "source": [
    "def get_radius(soup,data_list):\n",
    "    data  = soup.find(id = \"planet_radius\")\n",
    "    numbers = [float(x) for x in re.findall(\"\\d+\\.\\d+\", str(data))]\n",
    "    if (numbers):\n",
    "        individual_data.append(numbers[0])\n",
    "    else:\n",
    "        individual_data.append(np.NaN)"
   ]
  },
  {
   "cell_type": "code",
   "execution_count": 109,
   "metadata": {},
   "outputs": [],
   "source": [
    "def get_inclination(soup,data_list):\n",
    "    data  = soup.find(id = \"planet_inclination\")\n",
    "    numbers = [float(x) for x in re.findall(\"\\d+\\.\\d+\", str(data))]\n",
    "    if (numbers):\n",
    "        individual_data.append(numbers[0])\n",
    "    else:\n",
    "        individual_data.append(np.NaN)"
   ]
  },
  {
   "cell_type": "code",
   "execution_count": 110,
   "metadata": {},
   "outputs": [],
   "source": [
    "def get_detection_type(soup,data_list):\n",
    "    data  = soup.find(id = \"planet_detection_type\")\n",
    "    if (data):\n",
    "        words = data.text.split()\n",
    "        method = (' ').join(words[2:])\n",
    "        individual_data.append(method)\n",
    "    else:\n",
    "        individual_data.append(np.NaN)"
   ]
  },
  {
   "cell_type": "code",
   "execution_count": 111,
   "metadata": {},
   "outputs": [],
   "source": [
    "def get_star_mass(soup,data_list):\n",
    "    data  = soup.find(id = \"star_0_stars__mass\")\n",
    "    numbers = [float(x) for x in re.findall(\"\\d+\\.\\d+\", str(data))]\n",
    "    if (numbers):\n",
    "        individual_data.append(numbers[0])\n",
    "    else:\n",
    "        individual_data.append(np.NaN)"
   ]
  },
  {
   "cell_type": "code",
   "execution_count": 112,
   "metadata": {},
   "outputs": [],
   "source": [
    "def get_star_age(soup,data_list):\n",
    "    data  = soup.find(id = \"star_0_stars__age\")\n",
    "    numbers = [float(x) for x in re.findall(\"\\d+\\.\\d+\", str(data))]\n",
    "    if (numbers):\n",
    "        individual_data.append(numbers[0])\n",
    "    else:\n",
    "        individual_data.append(np.NaN)"
   ]
  },
  {
   "cell_type": "code",
   "execution_count": 113,
   "metadata": {},
   "outputs": [],
   "source": [
    "def get_star_effective_temp(soup,data_list):\n",
    "    data  = soup.find(id = \"star_0_stars__teff\")\n",
    "    numbers = [float(x) for x in re.findall(\"\\d+\\.\\d+\", str(data))]\n",
    "    if (numbers):\n",
    "        individual_data.append(numbers[0])\n",
    "    else:\n",
    "        individual_data.append(np.NaN)"
   ]
  },
  {
   "cell_type": "code",
   "execution_count": 114,
   "metadata": {},
   "outputs": [],
   "source": [
    "def get_star_radius(soup,data_list):\n",
    "    data  = soup.find(id = \"star_0_stars__radius\")\n",
    "    numbers = [float(x) for x in re.findall(\"\\d+\\.\\d+\", str(data))]\n",
    "    if (numbers):\n",
    "        individual_data.append(numbers[0])\n",
    "    else:\n",
    "        individual_data.append(np.NaN)"
   ]
  },
  {
   "cell_type": "code",
   "execution_count": 115,
   "metadata": {},
   "outputs": [],
   "source": [
    "def get_star_metallicity(soup,data_list):\n",
    "    data  = soup.find(id = \"star_0_stars__metallicity\")\n",
    "    numbers = [float(x) for x in re.findall(\"\\d+\\.\\d+\", str(data))]\n",
    "    if (numbers):\n",
    "        individual_data.append(numbers[0])\n",
    "    else:\n",
    "        individual_data.append(np.NaN)"
   ]
  },
  {
   "cell_type": "code",
   "execution_count": 118,
   "metadata": {},
   "outputs": [],
   "source": [
    "temp_list = url_list[:10]\n",
    "planets = []\n",
    "for i, url in enumerate(temp_list):\n",
    "    response = requests.get(url)\n",
    "    soup = BeautifulSoup(response.text, \"lxml\")\n",
    "    individual_data = [all_names[i]]\n",
    "    \n",
    "    get_mass(soup, individual_data)\n",
    "    get_mass_sini(soup, individual_data)\n",
    "    get_axis(soup, individual_data)\n",
    "    get_orbital_period(soup, individual_data)\n",
    "    get_eccentricity(soup, individual_data)\n",
    "    get_omega(soup, individual_data)\n",
    "    get_tperi(soup, individual_data)\n",
    "    get_radius(soup, individual_data)\n",
    "    get_inclination(soup, individual_data)\n",
    "    get_detection_type(soup, individual_data)\n",
    "    get_star_mass(soup, individual_data)\n",
    "    get_star_age(soup, individual_data)\n",
    "    get_star_effective_temp(soup, individual_data)\n",
    "    get_star_radius(soup, individual_data)\n",
    "    get_star_metallicity(soup, individual_data)\n",
    "    \n",
    "    planets.append(individual_data)"
   ]
  },
  {
   "cell_type": "code",
   "execution_count": 121,
   "metadata": {},
   "outputs": [],
   "source": [
    "exoplanet_data = pd.DataFrame(planets, columns = ['NAME','MASS','MASS_SINI','SEMI_MAJOR_AXIS','ORBITAL_PERIOD','ECCENTRICITY',\n",
    "                                                 'OMEGA','TIME PERIAPSE','PLANETARY_RADIUS','INCLINATION','DETECTION_TYPE',\n",
    "                                                  'STAR_MASS','STAR_AGE','STAR_TEMP','STAR_RADIUS','STAR_METALLICITIY'])"
   ]
  },
  {
   "cell_type": "code",
   "execution_count": 122,
   "metadata": {},
   "outputs": [
    {
     "data": {
      "text/html": [
       "<div>\n",
       "<style scoped>\n",
       "    .dataframe tbody tr th:only-of-type {\n",
       "        vertical-align: middle;\n",
       "    }\n",
       "\n",
       "    .dataframe tbody tr th {\n",
       "        vertical-align: top;\n",
       "    }\n",
       "\n",
       "    .dataframe thead th {\n",
       "        text-align: right;\n",
       "    }\n",
       "</style>\n",
       "<table border=\"1\" class=\"dataframe\">\n",
       "  <thead>\n",
       "    <tr style=\"text-align: right;\">\n",
       "      <th></th>\n",
       "      <th>NAME</th>\n",
       "      <th>MASS</th>\n",
       "      <th>MASS_SINI</th>\n",
       "      <th>SEMI_MAJOR_AXIS</th>\n",
       "      <th>ORBITAL_PERIOD</th>\n",
       "      <th>ECCENTRICITY</th>\n",
       "      <th>OMEGA</th>\n",
       "      <th>TIME PERIAPSE</th>\n",
       "      <th>PLANETARY_RADIUS</th>\n",
       "      <th>INCLINATION</th>\n",
       "      <th>DETECTION_TYPE</th>\n",
       "      <th>STAR_MASS</th>\n",
       "      <th>STAR_AGE</th>\n",
       "      <th>STAR_TEMP</th>\n",
       "      <th>STAR_RADIUS</th>\n",
       "      <th>STAR_METALLICITIY</th>\n",
       "    </tr>\n",
       "  </thead>\n",
       "  <tbody>\n",
       "    <tr>\n",
       "      <th>0</th>\n",
       "      <td>11 Com b</td>\n",
       "      <td>NaN</td>\n",
       "      <td>19.40</td>\n",
       "      <td>1.29</td>\n",
       "      <td>326.03</td>\n",
       "      <td>0.231</td>\n",
       "      <td>94.80</td>\n",
       "      <td>2452899.60</td>\n",
       "      <td>NaN</td>\n",
       "      <td>NaN</td>\n",
       "      <td>Radial Velocity</td>\n",
       "      <td>2.7000</td>\n",
       "      <td>NaN</td>\n",
       "      <td>4742.0</td>\n",
       "      <td>19.000</td>\n",
       "      <td>0.35</td>\n",
       "    </tr>\n",
       "    <tr>\n",
       "      <th>1</th>\n",
       "      <td>11 Oph b</td>\n",
       "      <td>21.0</td>\n",
       "      <td>NaN</td>\n",
       "      <td>243.00</td>\n",
       "      <td>730000.00</td>\n",
       "      <td>NaN</td>\n",
       "      <td>NaN</td>\n",
       "      <td>NaN</td>\n",
       "      <td>NaN</td>\n",
       "      <td>NaN</td>\n",
       "      <td>Imaging</td>\n",
       "      <td>0.0162</td>\n",
       "      <td>0.011</td>\n",
       "      <td>2375.0</td>\n",
       "      <td>NaN</td>\n",
       "      <td>NaN</td>\n",
       "    </tr>\n",
       "    <tr>\n",
       "      <th>2</th>\n",
       "      <td>11 UMi b</td>\n",
       "      <td>NaN</td>\n",
       "      <td>10.50</td>\n",
       "      <td>1.54</td>\n",
       "      <td>516.22</td>\n",
       "      <td>0.080</td>\n",
       "      <td>117.63</td>\n",
       "      <td>2452861.05</td>\n",
       "      <td>NaN</td>\n",
       "      <td>NaN</td>\n",
       "      <td>Radial Velocity</td>\n",
       "      <td>1.8000</td>\n",
       "      <td>1.560</td>\n",
       "      <td>4340.0</td>\n",
       "      <td>24.080</td>\n",
       "      <td>0.04</td>\n",
       "    </tr>\n",
       "    <tr>\n",
       "      <th>3</th>\n",
       "      <td>14 And b</td>\n",
       "      <td>NaN</td>\n",
       "      <td>5.33</td>\n",
       "      <td>0.83</td>\n",
       "      <td>185.84</td>\n",
       "      <td>0.000</td>\n",
       "      <td>NaN</td>\n",
       "      <td>2452861.40</td>\n",
       "      <td>NaN</td>\n",
       "      <td>NaN</td>\n",
       "      <td>Radial Velocity</td>\n",
       "      <td>2.2000</td>\n",
       "      <td>NaN</td>\n",
       "      <td>4813.0</td>\n",
       "      <td>11.000</td>\n",
       "      <td>0.24</td>\n",
       "    </tr>\n",
       "    <tr>\n",
       "      <th>4</th>\n",
       "      <td>14 Her b</td>\n",
       "      <td>NaN</td>\n",
       "      <td>4.64</td>\n",
       "      <td>2.77</td>\n",
       "      <td>1773.40</td>\n",
       "      <td>0.369</td>\n",
       "      <td>22.60</td>\n",
       "      <td>2451372.70</td>\n",
       "      <td>NaN</td>\n",
       "      <td>NaN</td>\n",
       "      <td>Radial Velocity</td>\n",
       "      <td>0.9000</td>\n",
       "      <td>5.100</td>\n",
       "      <td>5311.0</td>\n",
       "      <td>0.708</td>\n",
       "      <td>0.43</td>\n",
       "    </tr>\n",
       "  </tbody>\n",
       "</table>\n",
       "</div>"
      ],
      "text/plain": [
       "       NAME  MASS  MASS_SINI  SEMI_MAJOR_AXIS  ORBITAL_PERIOD  ECCENTRICITY  \\\n",
       "0  11 Com b   NaN      19.40             1.29          326.03         0.231   \n",
       "1  11 Oph b  21.0        NaN           243.00       730000.00           NaN   \n",
       "2  11 UMi b   NaN      10.50             1.54          516.22         0.080   \n",
       "3  14 And b   NaN       5.33             0.83          185.84         0.000   \n",
       "4  14 Her b   NaN       4.64             2.77         1773.40         0.369   \n",
       "\n",
       "    OMEGA  TIME PERIAPSE  PLANETARY_RADIUS  INCLINATION   DETECTION_TYPE  \\\n",
       "0   94.80     2452899.60               NaN          NaN  Radial Velocity   \n",
       "1     NaN            NaN               NaN          NaN          Imaging   \n",
       "2  117.63     2452861.05               NaN          NaN  Radial Velocity   \n",
       "3     NaN     2452861.40               NaN          NaN  Radial Velocity   \n",
       "4   22.60     2451372.70               NaN          NaN  Radial Velocity   \n",
       "\n",
       "   STAR_MASS  STAR_AGE  STAR_TEMP  STAR_RADIUS  STAR_METALLICITIY  \n",
       "0     2.7000       NaN     4742.0       19.000               0.35  \n",
       "1     0.0162     0.011     2375.0          NaN                NaN  \n",
       "2     1.8000     1.560     4340.0       24.080               0.04  \n",
       "3     2.2000       NaN     4813.0       11.000               0.24  \n",
       "4     0.9000     5.100     5311.0        0.708               0.43  "
      ]
     },
     "execution_count": 122,
     "metadata": {},
     "output_type": "execute_result"
    }
   ],
   "source": [
    "exoplanet_data.head()"
   ]
  }
 ],
 "metadata": {
  "kernelspec": {
   "display_name": "metis",
   "language": "python",
   "name": "metis"
  },
  "language_info": {
   "codemirror_mode": {
    "name": "ipython",
    "version": 3
   },
   "file_extension": ".py",
   "mimetype": "text/x-python",
   "name": "python",
   "nbconvert_exporter": "python",
   "pygments_lexer": "ipython3",
   "version": "3.7.3"
  }
 },
 "nbformat": 4,
 "nbformat_minor": 2
}

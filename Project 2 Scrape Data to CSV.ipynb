{
 "cells": [
  {
   "cell_type": "markdown",
   "metadata": {},
   "source": [
    "# Scrape Exoplanet Data from http://exoplanet.eu/catalog/"
   ]
  },
  {
   "cell_type": "code",
   "execution_count": 1,
   "metadata": {},
   "outputs": [],
   "source": [
    "from bs4 import BeautifulSoup\n",
    "import requests\n",
    "import re\n",
    "import pandas as pd\n",
    "import numpy as np"
   ]
  },
  {
   "cell_type": "markdown",
   "metadata": {},
   "source": [
    "### Get exoplanet names from API csv, format names into URLS"
   ]
  },
  {
   "cell_type": "code",
   "execution_count": 2,
   "metadata": {
    "scrolled": false
   },
   "outputs": [],
   "source": [
    "#Admittedly the csv is the data I want, but to scrape I need the planet names so...\n",
    "df = pd.read_csv('exoplanets.csv')\n",
    "all_names = df['# name']\n",
    "\n",
    "#format URLs\n",
    "exoplanet_names = [name.strip() for name in all_names]\n",
    "exoplanet_names = [name.replace(' ','_') for name in exoplanet_names]\n",
    "url_list = [('http://exoplanet.eu/catalog/' + name + '/') for name in exoplanet_names]"
   ]
  },
  {
   "cell_type": "markdown",
   "metadata": {},
   "source": [
    "### Create functions to get columns of our dataset"
   ]
  },
  {
   "cell_type": "code",
   "execution_count": 19,
   "metadata": {},
   "outputs": [],
   "source": [
    "def get_mass(soup,data_list):\n",
    "    data  = soup.find(id = \"planet_mass\")\n",
    "    numbers = [float(x) for x in re.findall(\"\\d+\\.\\d+\", str(data))]\n",
    "    if (numbers):\n",
    "        data_list.append(numbers[0])\n",
    "    else:\n",
    "        data_list.append(np.NaN)"
   ]
  },
  {
   "cell_type": "code",
   "execution_count": 20,
   "metadata": {},
   "outputs": [],
   "source": [
    "def get_mass_sini(soup,data_list):\n",
    "    data  = soup.find(id = \"planet_mass_sini\")\n",
    "    numbers = [float(x) for x in re.findall(\"\\d+\\.\\d+\", str(data))]\n",
    "    if (numbers):\n",
    "        individual_data.append(numbers[0])\n",
    "    else:\n",
    "        individual_data.append(np.NaN)"
   ]
  },
  {
   "cell_type": "code",
   "execution_count": 21,
   "metadata": {},
   "outputs": [],
   "source": [
    "def get_axis(soup,data_list):\n",
    "    data  = soup.find(id = \"planet_axis\")\n",
    "    numbers = [float(x) for x in re.findall(\"\\d+\\.\\d+\", str(data))]\n",
    "    if (numbers):\n",
    "        individual_data.append(numbers[0])\n",
    "    else:\n",
    "        individual_data.append(np.NaN)"
   ]
  },
  {
   "cell_type": "code",
   "execution_count": 22,
   "metadata": {},
   "outputs": [],
   "source": [
    "def get_orbital_period(soup,data_list):\n",
    "    data  = soup.find(id = \"planet_period\")\n",
    "    numbers = [float(x) for x in re.findall(\"\\d+\\.\\d+\", str(data))]\n",
    "    if (numbers):\n",
    "        individual_data.append(numbers[0])\n",
    "    else:\n",
    "        individual_data.append(np.NaN)"
   ]
  },
  {
   "cell_type": "code",
   "execution_count": 23,
   "metadata": {},
   "outputs": [],
   "source": [
    "def get_eccentricity(soup,data_list):\n",
    "    data  = soup.find(id = \"planet_eccentricity\")\n",
    "    numbers = [float(x) for x in re.findall(\"\\d+\\.\\d+\", str(data))]\n",
    "    if (numbers):\n",
    "        individual_data.append(numbers[0])\n",
    "    else:\n",
    "        individual_data.append(np.NaN)"
   ]
  },
  {
   "cell_type": "code",
   "execution_count": 24,
   "metadata": {},
   "outputs": [],
   "source": [
    "def get_omega(soup,data_list):\n",
    "    data  = soup.find(id = \"planet_omega\")\n",
    "    numbers = [float(x) for x in re.findall(\"\\d+\\.\\d+\", str(data))]\n",
    "    if (numbers):\n",
    "        individual_data.append(numbers[0])\n",
    "    else:\n",
    "        individual_data.append(np.NaN)"
   ]
  },
  {
   "cell_type": "code",
   "execution_count": 25,
   "metadata": {},
   "outputs": [],
   "source": [
    "def get_tperi(soup,data_list):\n",
    "    data  = soup.find(id = \"planet_tperi\")\n",
    "    numbers = [float(x) for x in re.findall(\"\\d+\\.\\d+\", str(data))]\n",
    "    if (numbers):\n",
    "        individual_data.append(numbers[0])\n",
    "    else:\n",
    "        individual_data.append(np.NaN)"
   ]
  },
  {
   "cell_type": "code",
   "execution_count": 26,
   "metadata": {},
   "outputs": [],
   "source": [
    "def get_radius(soup,data_list):\n",
    "    data  = soup.find(id = \"planet_radius\")\n",
    "    numbers = [float(x) for x in re.findall(\"\\d+\\.\\d+\", str(data))]\n",
    "    if (numbers):\n",
    "        individual_data.append(numbers[0])\n",
    "    else:\n",
    "        individual_data.append(np.NaN)"
   ]
  },
  {
   "cell_type": "code",
   "execution_count": 27,
   "metadata": {},
   "outputs": [],
   "source": [
    "def get_inclination(soup,data_list):\n",
    "    data  = soup.find(id = \"planet_inclination\")\n",
    "    numbers = [float(x) for x in re.findall(\"\\d+\\.\\d+\", str(data))]\n",
    "    if (numbers):\n",
    "        individual_data.append(numbers[0])\n",
    "    else:\n",
    "        individual_data.append(np.NaN)"
   ]
  },
  {
   "cell_type": "code",
   "execution_count": 28,
   "metadata": {},
   "outputs": [],
   "source": [
    "def get_detection_type(soup,data_list):\n",
    "    data  = soup.find(id = \"planet_detection_type\")\n",
    "    if (data):\n",
    "        words = data.text.split()\n",
    "        method = (' ').join(words[2:])\n",
    "        individual_data.append(method)\n",
    "    else:\n",
    "        individual_data.append(np.NaN)"
   ]
  },
  {
   "cell_type": "code",
   "execution_count": 29,
   "metadata": {},
   "outputs": [],
   "source": [
    "def get_star_mass(soup,data_list):\n",
    "    data  = soup.find(id = \"star_0_stars__mass\")\n",
    "    numbers = [float(x) for x in re.findall(\"\\d+\\.\\d+\", str(data))]\n",
    "    if (numbers):\n",
    "        individual_data.append(numbers[0])\n",
    "    else:\n",
    "        individual_data.append(np.NaN)"
   ]
  },
  {
   "cell_type": "code",
   "execution_count": 30,
   "metadata": {},
   "outputs": [],
   "source": [
    "def get_star_age(soup,data_list):\n",
    "    data  = soup.find(id = \"star_0_stars__age\")\n",
    "    numbers = [float(x) for x in re.findall(\"\\d+\\.\\d+\", str(data))]\n",
    "    if (numbers):\n",
    "        individual_data.append(numbers[0])\n",
    "    else:\n",
    "        individual_data.append(np.NaN)"
   ]
  },
  {
   "cell_type": "code",
   "execution_count": 31,
   "metadata": {},
   "outputs": [],
   "source": [
    "def get_star_effective_temp(soup,data_list):\n",
    "    data  = soup.find(id = \"star_0_stars__teff\")\n",
    "    numbers = [float(x) for x in re.findall(\"\\d+\\.\\d+\", str(data))]\n",
    "    if (numbers):\n",
    "        individual_data.append(numbers[0])\n",
    "    else:\n",
    "        individual_data.append(np.NaN)"
   ]
  },
  {
   "cell_type": "code",
   "execution_count": 32,
   "metadata": {},
   "outputs": [],
   "source": [
    "def get_star_radius(soup,data_list):\n",
    "    data  = soup.find(id = \"star_0_stars__radius\")\n",
    "    numbers = [float(x) for x in re.findall(\"\\d+\\.\\d+\", str(data))]\n",
    "    if (numbers):\n",
    "        individual_data.append(numbers[0])\n",
    "    else:\n",
    "        individual_data.append(np.NaN)"
   ]
  },
  {
   "cell_type": "code",
   "execution_count": 33,
   "metadata": {},
   "outputs": [],
   "source": [
    "def get_star_metallicity(soup,data_list):\n",
    "    data  = soup.find(id = \"star_0_stars__metallicity\")\n",
    "    numbers = [float(x) for x in re.findall(\"\\d+\\.\\d+\", str(data))]\n",
    "    if (numbers):\n",
    "        individual_data.append(numbers[0])\n",
    "    else:\n",
    "        individual_data.append(np.NaN)"
   ]
  },
  {
   "cell_type": "markdown",
   "metadata": {},
   "source": [
    "### Scrape data into list of lists"
   ]
  },
  {
   "cell_type": "code",
   "execution_count": 40,
   "metadata": {},
   "outputs": [],
   "source": [
    "#Scrape data from each website, store in list called \n",
    "#planets that whose elements are lists with the data for one planet\n",
    "\n",
    "planets = []\n",
    "for i, url in enumerate(url_list):\n",
    "    response = requests.get(url)\n",
    "    soup = BeautifulSoup(response.text, \"lxml\")\n",
    "    individual_data = [all_names[i]]\n",
    "    \n",
    "    get_mass(soup, individual_data)\n",
    "    get_mass_sini(soup, individual_data)\n",
    "    get_axis(soup, individual_data)\n",
    "    get_orbital_period(soup, individual_data)\n",
    "    get_eccentricity(soup, individual_data)\n",
    "    get_omega(soup, individual_data)\n",
    "    get_tperi(soup, individual_data)\n",
    "    get_radius(soup, individual_data)\n",
    "    get_inclination(soup, individual_data)\n",
    "    get_detection_type(soup, individual_data)\n",
    "    get_star_mass(soup, individual_data)\n",
    "    get_star_age(soup, individual_data)\n",
    "    get_star_effective_temp(soup, individual_data)\n",
    "    get_star_radius(soup, individual_data)\n",
    "    get_star_metallicity(soup, individual_data)\n",
    "    \n",
    "    planets.append(individual_data)"
   ]
  },
  {
   "cell_type": "code",
   "execution_count": 41,
   "metadata": {},
   "outputs": [],
   "source": [
    "#Create dataframe with proper column titles\n",
    "exoplanet_data = pd.DataFrame(planets, columns = ['NAME','MASS','MASS_SINI','SEMI_MAJOR_AXIS','ORBITAL_PERIOD','ECCENTRICITY',\n",
    "                                                 'OMEGA','TIME_PERIAPSE','PLANETARY_RADIUS','INCLINATION','DETECTION_TYPE',\n",
    "                                                  'STAR_MASS','STAR_AGE','STAR_TEMP','STAR_RADIUS','STAR_METALLICITIY'])"
   ]
  },
  {
   "cell_type": "code",
   "execution_count": 42,
   "metadata": {},
   "outputs": [
    {
     "name": "stdout",
     "output_type": "stream",
     "text": [
      "<class 'pandas.core.frame.DataFrame'>\n",
      "RangeIndex: 4098 entries, 0 to 4097\n",
      "Data columns (total 16 columns):\n",
      "NAME                 4098 non-null object\n",
      "MASS                 1102 non-null float64\n",
      "MASS_SINI            948 non-null float64\n",
      "SEMI_MAJOR_AXIS      2584 non-null float64\n",
      "ORBITAL_PERIOD       3880 non-null float64\n",
      "ECCENTRICITY         1526 non-null float64\n",
      "OMEGA                922 non-null float64\n",
      "TIME_PERIAPSE        630 non-null float64\n",
      "PLANETARY_RADIUS     3036 non-null float64\n",
      "INCLINATION          855 non-null float64\n",
      "DETECTION_TYPE       4096 non-null object\n",
      "STAR_MASS            3676 non-null float64\n",
      "STAR_AGE             1194 non-null float64\n",
      "STAR_TEMP            3769 non-null float64\n",
      "STAR_RADIUS          3556 non-null float64\n",
      "STAR_METALLICITIY    3583 non-null float64\n",
      "dtypes: float64(14), object(2)\n",
      "memory usage: 512.3+ KB\n"
     ]
    }
   ],
   "source": [
    "exoplanet_data.info()"
   ]
  },
  {
   "cell_type": "code",
   "execution_count": 43,
   "metadata": {},
   "outputs": [
    {
     "data": {
      "text/html": [
       "<div>\n",
       "<style scoped>\n",
       "    .dataframe tbody tr th:only-of-type {\n",
       "        vertical-align: middle;\n",
       "    }\n",
       "\n",
       "    .dataframe tbody tr th {\n",
       "        vertical-align: top;\n",
       "    }\n",
       "\n",
       "    .dataframe thead th {\n",
       "        text-align: right;\n",
       "    }\n",
       "</style>\n",
       "<table border=\"1\" class=\"dataframe\">\n",
       "  <thead>\n",
       "    <tr style=\"text-align: right;\">\n",
       "      <th></th>\n",
       "      <th>MASS</th>\n",
       "      <th>MASS_SINI</th>\n",
       "      <th>SEMI_MAJOR_AXIS</th>\n",
       "      <th>ORBITAL_PERIOD</th>\n",
       "      <th>ECCENTRICITY</th>\n",
       "      <th>OMEGA</th>\n",
       "      <th>TIME_PERIAPSE</th>\n",
       "      <th>PLANETARY_RADIUS</th>\n",
       "      <th>INCLINATION</th>\n",
       "      <th>STAR_MASS</th>\n",
       "      <th>STAR_AGE</th>\n",
       "      <th>STAR_TEMP</th>\n",
       "      <th>STAR_RADIUS</th>\n",
       "      <th>STAR_METALLICITIY</th>\n",
       "    </tr>\n",
       "  </thead>\n",
       "  <tbody>\n",
       "    <tr>\n",
       "      <th>count</th>\n",
       "      <td>1102.000000</td>\n",
       "      <td>948.000000</td>\n",
       "      <td>2584.000000</td>\n",
       "      <td>3880.000000</td>\n",
       "      <td>1526.000000</td>\n",
       "      <td>922.000000</td>\n",
       "      <td>6.300000e+02</td>\n",
       "      <td>3036.000000</td>\n",
       "      <td>855.000000</td>\n",
       "      <td>3676.000000</td>\n",
       "      <td>1194.000000</td>\n",
       "      <td>3.769000e+03</td>\n",
       "      <td>3556.000000</td>\n",
       "      <td>3583.000000</td>\n",
       "    </tr>\n",
       "    <tr>\n",
       "      <th>mean</th>\n",
       "      <td>6.193621</td>\n",
       "      <td>3.616973</td>\n",
       "      <td>25.377871</td>\n",
       "      <td>805.801319</td>\n",
       "      <td>0.176849</td>\n",
       "      <td>177.670516</td>\n",
       "      <td>2.038312e+06</td>\n",
       "      <td>0.415828</td>\n",
       "      <td>84.479633</td>\n",
       "      <td>0.983541</td>\n",
       "      <td>4.410666</td>\n",
       "      <td>6.156510e+04</td>\n",
       "      <td>1.547144</td>\n",
       "      <td>0.144382</td>\n",
       "    </tr>\n",
       "    <tr>\n",
       "      <th>std</th>\n",
       "      <td>12.995303</td>\n",
       "      <td>7.434932</td>\n",
       "      <td>302.576872</td>\n",
       "      <td>13963.824619</td>\n",
       "      <td>0.332147</td>\n",
       "      <td>106.394426</td>\n",
       "      <td>9.115070e+05</td>\n",
       "      <td>0.469020</td>\n",
       "      <td>15.122217</td>\n",
       "      <td>0.480458</td>\n",
       "      <td>3.099233</td>\n",
       "      <td>3.442561e+06</td>\n",
       "      <td>3.205025</td>\n",
       "      <td>0.142825</td>\n",
       "    </tr>\n",
       "    <tr>\n",
       "      <th>min</th>\n",
       "      <td>0.000210</td>\n",
       "      <td>0.000470</td>\n",
       "      <td>0.002630</td>\n",
       "      <td>0.027829</td>\n",
       "      <td>0.000000</td>\n",
       "      <td>0.000000</td>\n",
       "      <td>1.236000e+03</td>\n",
       "      <td>0.000900</td>\n",
       "      <td>1.750000</td>\n",
       "      <td>0.015600</td>\n",
       "      <td>0.000500</td>\n",
       "      <td>5.386000e+01</td>\n",
       "      <td>0.015600</td>\n",
       "      <td>0.000000</td>\n",
       "    </tr>\n",
       "    <tr>\n",
       "      <th>25%</th>\n",
       "      <td>0.114675</td>\n",
       "      <td>0.138075</td>\n",
       "      <td>0.056175</td>\n",
       "      <td>4.561779</td>\n",
       "      <td>0.019250</td>\n",
       "      <td>87.100000</td>\n",
       "      <td>2.450448e+06</td>\n",
       "      <td>0.143000</td>\n",
       "      <td>85.415000</td>\n",
       "      <td>0.810000</td>\n",
       "      <td>2.000000</td>\n",
       "      <td>5.035000e+03</td>\n",
       "      <td>0.800000</td>\n",
       "      <td>0.040000</td>\n",
       "    </tr>\n",
       "    <tr>\n",
       "      <th>50%</th>\n",
       "      <td>0.880000</td>\n",
       "      <td>1.195000</td>\n",
       "      <td>0.126700</td>\n",
       "      <td>12.988515</td>\n",
       "      <td>0.107000</td>\n",
       "      <td>171.000000</td>\n",
       "      <td>2.453420e+06</td>\n",
       "      <td>0.215000</td>\n",
       "      <td>87.920000</td>\n",
       "      <td>0.970000</td>\n",
       "      <td>3.980000</td>\n",
       "      <td>5.603000e+03</td>\n",
       "      <td>0.990000</td>\n",
       "      <td>0.100000</td>\n",
       "    </tr>\n",
       "    <tr>\n",
       "      <th>75%</th>\n",
       "      <td>4.000000</td>\n",
       "      <td>3.331500</td>\n",
       "      <td>0.920250</td>\n",
       "      <td>54.290544</td>\n",
       "      <td>0.250000</td>\n",
       "      <td>270.000000</td>\n",
       "      <td>2.455427e+06</td>\n",
       "      <td>0.397000</td>\n",
       "      <td>89.240000</td>\n",
       "      <td>1.120000</td>\n",
       "      <td>6.600000</td>\n",
       "      <td>5.930000e+03</td>\n",
       "      <td>1.270000</td>\n",
       "      <td>0.210000</td>\n",
       "    </tr>\n",
       "    <tr>\n",
       "      <th>max</th>\n",
       "      <td>81.900000</td>\n",
       "      <td>63.300000</td>\n",
       "      <td>9200.000000</td>\n",
       "      <td>730000.000000</td>\n",
       "      <td>10.700000</td>\n",
       "      <td>360.000000</td>\n",
       "      <td>2.464763e+06</td>\n",
       "      <td>6.520000</td>\n",
       "      <td>172.100000</td>\n",
       "      <td>20.000000</td>\n",
       "      <td>15.000000</td>\n",
       "      <td>2.113518e+08</td>\n",
       "      <td>51.100000</td>\n",
       "      <td>1.000000</td>\n",
       "    </tr>\n",
       "  </tbody>\n",
       "</table>\n",
       "</div>"
      ],
      "text/plain": [
       "              MASS   MASS_SINI  SEMI_MAJOR_AXIS  ORBITAL_PERIOD  ECCENTRICITY  \\\n",
       "count  1102.000000  948.000000      2584.000000     3880.000000   1526.000000   \n",
       "mean      6.193621    3.616973        25.377871      805.801319      0.176849   \n",
       "std      12.995303    7.434932       302.576872    13963.824619      0.332147   \n",
       "min       0.000210    0.000470         0.002630        0.027829      0.000000   \n",
       "25%       0.114675    0.138075         0.056175        4.561779      0.019250   \n",
       "50%       0.880000    1.195000         0.126700       12.988515      0.107000   \n",
       "75%       4.000000    3.331500         0.920250       54.290544      0.250000   \n",
       "max      81.900000   63.300000      9200.000000   730000.000000     10.700000   \n",
       "\n",
       "            OMEGA  TIME_PERIAPSE  PLANETARY_RADIUS  INCLINATION    STAR_MASS  \\\n",
       "count  922.000000   6.300000e+02       3036.000000   855.000000  3676.000000   \n",
       "mean   177.670516   2.038312e+06          0.415828    84.479633     0.983541   \n",
       "std    106.394426   9.115070e+05          0.469020    15.122217     0.480458   \n",
       "min      0.000000   1.236000e+03          0.000900     1.750000     0.015600   \n",
       "25%     87.100000   2.450448e+06          0.143000    85.415000     0.810000   \n",
       "50%    171.000000   2.453420e+06          0.215000    87.920000     0.970000   \n",
       "75%    270.000000   2.455427e+06          0.397000    89.240000     1.120000   \n",
       "max    360.000000   2.464763e+06          6.520000   172.100000    20.000000   \n",
       "\n",
       "          STAR_AGE     STAR_TEMP  STAR_RADIUS  STAR_METALLICITIY  \n",
       "count  1194.000000  3.769000e+03  3556.000000        3583.000000  \n",
       "mean      4.410666  6.156510e+04     1.547144           0.144382  \n",
       "std       3.099233  3.442561e+06     3.205025           0.142825  \n",
       "min       0.000500  5.386000e+01     0.015600           0.000000  \n",
       "25%       2.000000  5.035000e+03     0.800000           0.040000  \n",
       "50%       3.980000  5.603000e+03     0.990000           0.100000  \n",
       "75%       6.600000  5.930000e+03     1.270000           0.210000  \n",
       "max      15.000000  2.113518e+08    51.100000           1.000000  "
      ]
     },
     "execution_count": 43,
     "metadata": {},
     "output_type": "execute_result"
    }
   ],
   "source": [
    "exoplanet_data.describe()"
   ]
  },
  {
   "cell_type": "code",
   "execution_count": 44,
   "metadata": {},
   "outputs": [],
   "source": [
    "exoplanet_data.to_csv('exoplanet_data.csv',index=False)"
   ]
  },
  {
   "cell_type": "code",
   "execution_count": 1,
   "metadata": {},
   "outputs": [],
   "source": [
    "import pandas as pd\n",
    "data = pd.read_csv('exoplanet_data.csv')"
   ]
  },
  {
   "cell_type": "code",
   "execution_count": 3,
   "metadata": {},
   "outputs": [],
   "source": [
    "import pickle\n",
    "pickle_out = open(\"exoplanet_data.pickle\",\"wb\")\n",
    "pickle.dump(data, pickle_out)\n",
    "pickle_out.close()"
   ]
  },
  {
   "cell_type": "code",
   "execution_count": null,
   "metadata": {},
   "outputs": [],
   "source": []
  }
 ],
 "metadata": {
  "kernelspec": {
   "display_name": "metis",
   "language": "python",
   "name": "metis"
  },
  "language_info": {
   "codemirror_mode": {
    "name": "ipython",
    "version": 3
   },
   "file_extension": ".py",
   "mimetype": "text/x-python",
   "name": "python",
   "nbconvert_exporter": "python",
   "pygments_lexer": "ipython3",
   "version": "3.7.3"
  }
 },
 "nbformat": 4,
 "nbformat_minor": 2
}
